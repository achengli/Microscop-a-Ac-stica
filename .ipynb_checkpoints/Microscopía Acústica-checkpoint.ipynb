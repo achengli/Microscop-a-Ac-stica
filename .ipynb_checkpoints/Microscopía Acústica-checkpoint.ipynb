{
 "cells": [
  {
   "cell_type": "markdown",
   "id": "847f7b8a-463c-4f41-920d-cfb5477e6af5",
   "metadata": {},
   "source": [
    "<center><h1>Microscopía Acústica</h1>\n",
    "<h2 style=\"color: #1a1a5a\">Yassin Achengli</h2></center>"
   ]
  },
  {
   "cell_type": "markdown",
   "id": "44451ed8-1004-413f-a135-a31cf84c76ab",
   "metadata": {},
   "source": [
    "---\n",
    "<h4 style=\"color: #818181\">Una introducción a las aplicaciones y funcionamiento de la microscopía acústica.</h4>"
   ]
  },
  {
   "cell_type": "markdown",
   "id": "803b136b-cc98-4a66-9f3c-3c70acd728b2",
   "metadata": {},
   "source": [
    "## ¿Que es la microscopía acústica?\n",
    "\n",
    "Sobre los años 30 unos científicos buscaban conseguir imágenes en base al fundamento de la reflexión de las ondas acústicas sobre los materiales.\n",
    "En 1936, El ruso Serguéi Sokolov consiguió las primeras imagenes haciendo uso de ondas acústicas con frecuencias de hasta 3 GHz.\n",
    "\n",
    "La microscopía acústica es por lo tanto, una técnica que busca obtener informacion topográfica de un material haciendo uso de los fundamentos basados en la reflexión de las ondas acústicas"
   ]
  },
  {
   "cell_type": "markdown",
   "id": "f2cb1579-6fd9-4187-b378-5fc5df8140a9",
   "metadata": {},
   "source": [
    "## ¿Para qué se usa la microscopía acústica?\n",
    "La microscopía acústica tiene muchas aplicaciones, por ejemplo:\n",
    "\n",
    "---\n",
    "* Control de calidad en cadenas de producción para la detección de microdefectos\n",
    "* Imágenes de microcomponentes electronicos\n",
    "* Aplicaciones clínicas\n",
    "\n",
    "En ésta presentación me enfocaré en las aplicaciones relacionadas con el control de calidad\n",
    "de los componentes electrónicos y la obtención de imágenes topográficas del relieve y capas de los mismos, entre estas aplicaciones la más conocida es la **SAM** *Scanning Acoustic Microscopy* "
   ]
  },
  {
   "cell_type": "markdown",
   "id": "77b25861-e3d5-4e5b-adaa-5cd80913c5c0",
   "metadata": {},
   "source": [
    "# ¿Cómo se hace?\n",
    "\n",
    "La microscopia se fundamenta en los fenómenos físicos de la refracción de las ondas acústicas en distintos medios sólidos.\n",
    "\n",
    "Recordemos como se expresa el coeficiente de reflexión y la impedancia característica de un medio.\n",
    "\n",
    "$$ \n",
    "\\Gamma = \\frac{Z_{02} - Z_{01}}{Z_{02} + Z_{01}}\n",
    "$$\n",
    "$$\n",
    "Z = \\rho\\cdot c\n",
    "$$\n",
    "\n",
    "Siendo el funcionamiento el mismo que el de un sonar, el retardo desde que transmitimos un pulso y lo recibimos marca la distancia al material y por ello mapeando dicho material con distintas frecuencias que poseen distintas profundidades de penetración conseguimos una imagen\n",
    "muy buena de las capas que conforman el material.\n",
    "\n",
    "$$\n",
    "d = c\\cdot\\frac{\\Delta_t}{2}\n",
    "$$\n",
    "\n",
    "donde c es la velocidad del sonido en el medio.\n",
    "\n",
    "<ul>\n",
    "    <li><span style=\"color:#6a6a6a; font-style:italic;\">Normalmente se usan medios liquidos ya que son más directivos que los medios gaseosos.</li> \n",
    "</ul>\n",
    "\n",
    "## Resolución de las imágenes obtenidas\n",
    "\n",
    "La frecuencia es un factor clave en la resolución y la profundidad de penetración de nuestras imágenes. \n",
    "\n",
    "La resolución depende de la frecuencia y de la geometría de las lentes del transductor \n",
    "$W = \\frac{c}{f}\\cdot\\frac{1}{2N.A.}$ o visto en función de la longitud de onda, se toma esta\n",
    "otra expresión $W = \\frac{\\lambda}{2N.A.}$."
   ]
  },
  {
   "cell_type": "code",
   "execution_count": 10,
   "id": "55f818a3-f20c-47ae-99e3-d77553b66dd9",
   "metadata": {},
   "outputs": [
    {
     "data": {
      "application/vnd.jupyter.widget-view+json": {
       "model_id": "89da1ceb9ca540fe8096c8afdaa3a7dd",
       "version_major": 2,
       "version_minor": 0
      },
      "text/plain": [
       "interactive(children=(FloatSlider(value=10.0, description='Tamaño del Chip:', max=20.0, min=5.0), IntSlider(va…"
      ]
     },
     "metadata": {},
     "output_type": "display_data"
    }
   ],
   "source": [
    "import numpy as np\n",
    "import matplotlib.pyplot as plt\n",
    "from mpl_toolkits.mplot3d import Axes3D\n",
    "import ipywidgets as widgets\n",
    "from IPython.display import display\n",
    "\n",
    "def generar_relieve_chip(tamaño, num_elementos):\n",
    "    x = np.linspace(0, tamaño, num_elementos)\n",
    "    y = np.linspace(0, tamaño, num_elementos)\n",
    "    x, y = np.meshgrid(x, y)\n",
    "    relieve = np.sin(2 * np.pi * x / tamaño) * np.cos(2 * np.pi * y / tamaño)\n",
    "    return x, y, relieve\n",
    "\n",
    "def simular_microscopia_acustica(x, y, relieve, frecuencia, amplitud=1.0):\n",
    "    onda = amplitud * np.sin(2 * np.pi * frecuencia * np.sqrt(x**2 + y**2))\n",
    "    datos_simulados = onda * relieve\n",
    "    return datos_simulados\n",
    "\n",
    "def graficar_superficie_3d(x, y, z, titulo=\"Simulación Tomografía 3D\", elev=30, azim=45):\n",
    "    fig = plt.figure()\n",
    "    ax = fig.add_subplot(111, projection='3d')\n",
    "    ax.plot_surface(x, y, z, cmap='viridis', edgecolor='k')\n",
    "    ax.set_xlabel('X')\n",
    "    ax.set_ylabel('Y')\n",
    "    ax.set_zlabel('Amplitud')\n",
    "    ax.set_title(titulo)\n",
    "    ax.view_init(elev=elev, azim=azim)  # Ajusta la elevación y el azimut\n",
    "    plt.show()\n",
    "\n",
    "# Función interactiva\n",
    "def tomografia_interactiva(tamaño_chip, num_elementos, frecuencia, elevacion, azimut):\n",
    "    x, y, relieve = generar_relieve_chip(tamaño_chip, num_elementos)\n",
    "    datos_simulados = simular_microscopia_acustica(x, y, relieve, frecuencia)\n",
    "\n",
    "    # Visualización interactiva\n",
    "    graficar_superficie_3d(x, y, datos_simulados, titulo=\"Simulación Tomografía 3D\", elev=elevacion, azim=azimut)\n",
    "\n",
    "# Widgets interactivos\n",
    "tamaño_chip_slider = widgets.FloatSlider(value=10.0, min=5.0, max=20.0, step=0.1, description='Tamaño del Chip:')\n",
    "num_elementos_slider = widgets.IntSlider(value=100, min=50, max=200, step=1, description='Num Elementos:')\n",
    "frecuencia_slider = widgets.FloatSlider(value=2.0, min=1.0, max=5.0, step=0.1, description='Frecuencia:')\n",
    "elevacion_slider = widgets.FloatSlider(value=30, min=0, max=90, step=1, description='Elevación:')\n",
    "azimut_slider = widgets.FloatSlider(value=45, min=0, max=360, step=1, description='Azimut:')\n",
    "\n",
    "# Interactividad\n",
    "tomografia_interactiva_interactiva = widgets.interactive(\n",
    "    tomografia_interactiva,\n",
    "    tamaño_chip=tamaño_chip_slider,\n",
    "    num_elementos=num_elementos_slider,\n",
    "    frecuencia=frecuencia_slider,\n",
    "    elevacion=elevacion_slider,\n",
    "    azimut=azimut_slider\n",
    ")\n",
    "\n",
    "# Mostrar widgets interactivos\n",
    "display(tomografia_interactiva_interactiva)\n",
    "\n"
   ]
  },
  {
   "cell_type": "markdown",
   "id": "a900845a-e800-4ff7-ba3f-88c060e272b2",
   "metadata": {},
   "source": [
    "## Ejemplos de uso\n",
    "En las imágenes siguientes se puede ver algunos resultados reales de capturas tomadas haciendo uso de un microscopio de barrido.\n",
    "<br><br>\n",
    "\n",
    "### Escaner de un microchip con vista de altura\n",
    "![](./assets/minichip-3.jpg)\n",
    "\n",
    "### Escaner de un microchip con vista de perfil\n",
    "![](./assets/minichip-b-2.jpg)\n",
    "\n",
    "### Bateria defectuosa\n",
    "\n",
    "Mediante la técnica de barrido se toman capturas longitudinales del cuerpo que se escanea, cómo si se tratase de una impresora recorriendo una hoja.\n",
    "\n",
    "<ul>\n",
    "    <li><h3><span style=\"color:#8c8c8c; font-style: italic;\">En la segunda captura se puede ver el defecto, siendo la zona donde se localiza más clara que el resto</span></h3></li>\n",
    "    <li><h3><span style=\"color:#8c8c8c; font-style: italic;\">En la tercera imagen aparece una batería con acumulación de gases, clara muestra de que es una batería defectuosa y peligrosa.</span></h3></li>\n",
    "</ul>"
   ]
  },
  {
   "cell_type": "markdown",
   "id": "fa1b6ce4-7030-4a0f-b516-b0541f30ddc4",
   "metadata": {},
   "source": [
    "## Modos de barrido\n",
    "\n",
    "### A-SCAN\n",
    "Escanea un corte transversal del material, útil para conocer a primera vista su estructura\n",
    "interna.\n",
    "\n",
    "<div style=\"display: inline-flex; \">\n",
    "    <img src=\"./assets/scan-models/scan-A-1.png\">\n",
    "    <img src=\"./assets/scan-models/scan-A-2.webp\">\n",
    "</div>\n",
    "\n",
    "### B-SCAN\n",
    "Lo mismo que el A pero siendo un corte longitudinal.\n",
    "\n",
    "<div style=\"display: inline-flex; \">\n",
    "    <img src=\"./assets/scan-models/scan-B-1.png\">\n",
    "    <img src=\"./assets/scan-models/scan-B-2.webp\">\n",
    "</div>\n",
    "\n",
    "### C-SCAN\n",
    "Éste es interesante porque da una imagen precisa del relieve. haciendo varios **B-SCAN**\n",
    "\n",
    "<div style=\"display: inline-flex; justify-content: flex-end; align-items: center\">\n",
    "    <img src=\"./assets/scan-models/scan-C-1.png\">\n",
    "    <img src=\"./assets/scan-models/scan-C-2.webp\">\n",
    "</div>\n",
    "\n",
    "### Z-SCAN\n",
    "Varios barridos en capa que permiten obtener información tomográfica y luego ser almacenado\n",
    "en un fichero de tipo DICOM por ejemplo.\n",
    "\n",
    "<div style=\"display: inline-flex; justify-content: flex-end; align-items: center\">\n",
    "    <img src=\"./assets/scan-models/scan-Z-1.png\">\n",
    "    <img src=\"./assets/scan-models/scan-Though-2.webp\">\n",
    "</div>\n",
    "\n",
    "### X-SCAN\n",
    "Esta tecnología es muy avanzada, no solo aprovecha los retardos de los pulsos sino que \n",
    "detecta las refracciones que llegan de distintas direcciones para así obtener mejor detalle de\n",
    "su interior.\n",
    "\n",
    "<div style=\"display: inline-flex; justify-content: flex-end; align-items: center\">\n",
    "    <img src=\"./assets/scan-models/scan-D-1.png\">\n",
    "    <img src=\"./assets/scan-models/scan-Z-2.png\">\n",
    "</div>\n"
   ]
  },
  {
   "cell_type": "markdown",
   "id": "68fff7e7-fe2c-4e59-ad6e-44144395b125",
   "metadata": {},
   "source": [
    "## Otros usos\n",
    "\n",
    "La microscopía acústica puede ser una alternativa a los microscopios electrónicos que además de \n",
    "ser menos destructivos, también permiten obtener imagenes en movimiento de los microorganismos en\n",
    "su estado natural.\n",
    "\n",
    "![Examen de un tejido orgánico en distintos microscopios](./assets/tejido-bio.png)\n",
    "\n",
    "En la primera imagen un téjido bajo un microscopio óptico, en la segunda bajo uno acústico \n",
    "funcionando a **200 Mhz** y en la tercera imagen, con una frecuencia de trabajo de **1.1 Ghz**.\n",
    "\n",
    "**Apreciar que la resolución mejora cuando mas alta es nuestra frecuencia de trabajo.**"
   ]
  },
  {
   "cell_type": "markdown",
   "id": "3f95f62b-8944-4df1-b273-821e7259b22d",
   "metadata": {},
   "source": [
    "## Inconvenientes\n",
    "\n",
    "El principal inconveniente es que no permite obtener imagenes en color además de su alto precio de\n",
    "venta; los **SAM** son aparatos que cuestan millones de pesetas.\n",
    "\n",
    "- Ver precio en: \n",
    "[directindustry.es SAM](https://www.directindustry.es/prod/pva-tepla-analytical-systems-gmbh/product-178684-1916915.html) *\n",
    "\n",
    "- *Cuando no aparece el precio es porque es verdaderamente caro...*"
   ]
  },
  {
   "cell_type": "markdown",
   "id": "a691ac78-df94-4d85-a0ae-067acd1abcbd",
   "metadata": {},
   "source": [
    "## Fuentes de información\n",
    "\n",
    "- [Blog abcs: Aplicaciones de la microscopía acústica al estudio de los componentes electrónicos](https://www.abcs.it/it/blog/microscopia/microscopia-acustica-a-scansione-sam-a-pplicata-allo-studio-di-componenti-elettronici)\n",
    "\n",
    "- [Revista Science direct: Scanning acoustic microscopy as non-destructive ...](https://www.sciencedirect.com/science/article/pii/S2666248520300354?ref=pdf_download&fr=RR-2&rr=8336b68b7aa703a8)\n",
    "  \n",
    "- [Microscopía acústica para la detección de micro-defectos](https://www.pvatepla-sam.com/en/)\n",
    "\n",
    "- [Aplicaciones biomédicas de la microscopía acústica](https://www.openaccessjournals.com/articles/acoustic-microscopy-latest-developments-and-applications-8192.html)"
   ]
  }
 ],
 "metadata": {
  "kernelspec": {
   "display_name": "Python 3 (ipykernel)",
   "language": "python",
   "name": "python3"
  },
  "language_info": {
   "codemirror_mode": {
    "name": "ipython",
    "version": 3
   },
   "file_extension": ".py",
   "mimetype": "text/x-python",
   "name": "python",
   "nbconvert_exporter": "python",
   "pygments_lexer": "ipython3",
   "version": "3.12.0"
  }
 },
 "nbformat": 4,
 "nbformat_minor": 5
}
